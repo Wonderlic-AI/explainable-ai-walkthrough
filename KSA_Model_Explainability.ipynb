{
 "cells": [
  {
   "cell_type": "markdown",
   "metadata": {},
   "source": [
    "# Model Explainability for the Wonderlic AI-Powered Job Analysis"
   ]
  },
  {
   "cell_type": "markdown",
   "metadata": {},
   "source": [
    "This notebook shows how we extracted the most important features for our job analysis models and provides an example of how we determined which features were most important for making a specific prediction for a single job description."
   ]
  },
  {
   "cell_type": "markdown",
   "metadata": {},
   "source": [
    "## Imports"
   ]
  },
  {
   "cell_type": "code",
   "execution_count": 1,
   "metadata": {},
   "outputs": [],
   "source": [
    "import lime\n",
    "import lime.lime_tabular\n",
    "import pickle\n",
    "import pandas as pd\n",
    "import numpy as np\n",
    "import xgboost as xgb\n",
    "from xgboost import plot_importance\n",
    "import matplotlib as pyplot\n",
    "from IPython.display import Image\n",
    "from IPython.core.display import HTML \n",
    "%matplotlib inline  "
   ]
  },
  {
   "cell_type": "markdown",
   "metadata": {},
   "source": [
    "## Variables"
   ]
  },
  {
   "cell_type": "code",
   "execution_count": 2,
   "metadata": {},
   "outputs": [],
   "source": [
    "# Path location of the KSA model you would like to explain\n",
    "MODEL_PATH = 'model_k_Medicine_and_Dentistry.pkl'\n",
    "\n",
    "# Path location of the data used to train your model\n",
    "DATA_PATH = 'test_all.pkl'\n",
    "\n",
    "# Path location of the processed text that you want to generate an explainable prediction for\n",
    "PROCESSED_TEXT_PATH = 'registered_nurse_jd_all_feats_df.pkl'"
   ]
  },
  {
   "cell_type": "markdown",
   "metadata": {},
   "source": [
    "## Load Model and Data"
   ]
  },
  {
   "cell_type": "code",
   "execution_count": 3,
   "metadata": {},
   "outputs": [],
   "source": [
    "with open(MODEL_PATH, 'rb') as handle:\n",
    "    model = pickle.load(handle)\n",
    "        \n",
    "with open(DATA_PATH, 'rb') as handle:\n",
    "    data = pickle.load(handle)\n",
    "    \n",
    "feature_list = list(data)[:len(model.feature_importances_)]"
   ]
  },
  {
   "cell_type": "markdown",
   "metadata": {},
   "source": [
    "## Overall Model Explainability"
   ]
  },
  {
   "cell_type": "markdown",
   "metadata": {},
   "source": [
    "First we will look at which features are most important overall for the KSA model of Medicine and Dentistry."
   ]
  },
  {
   "cell_type": "code",
   "execution_count": 4,
   "metadata": {},
   "outputs": [
    {
     "data": {
      "text/html": [
       "<div>\n",
       "<style scoped>\n",
       "    .dataframe tbody tr th:only-of-type {\n",
       "        vertical-align: middle;\n",
       "    }\n",
       "\n",
       "    .dataframe tbody tr th {\n",
       "        vertical-align: top;\n",
       "    }\n",
       "\n",
       "    .dataframe thead th {\n",
       "        text-align: right;\n",
       "    }\n",
       "</style>\n",
       "<table border=\"1\" class=\"dataframe\">\n",
       "  <thead>\n",
       "    <tr style=\"text-align: right;\">\n",
       "      <th></th>\n",
       "      <th>feature_name</th>\n",
       "      <th>feature_importance</th>\n",
       "    </tr>\n",
       "  </thead>\n",
       "  <tbody>\n",
       "    <tr>\n",
       "      <td>4</td>\n",
       "      <td>4_lda</td>\n",
       "      <td>0.259871</td>\n",
       "    </tr>\n",
       "    <tr>\n",
       "      <td>6495</td>\n",
       "      <td>healthcare</td>\n",
       "      <td>0.085237</td>\n",
       "    </tr>\n",
       "    <tr>\n",
       "      <td>9364</td>\n",
       "      <td>patient</td>\n",
       "      <td>0.015775</td>\n",
       "    </tr>\n",
       "    <tr>\n",
       "      <td>206</td>\n",
       "      <td>empath_technology</td>\n",
       "      <td>0.012972</td>\n",
       "    </tr>\n",
       "    <tr>\n",
       "      <td>11045</td>\n",
       "      <td>sale</td>\n",
       "      <td>0.012530</td>\n",
       "    </tr>\n",
       "    <tr>\n",
       "      <td>8893</td>\n",
       "      <td>nurse</td>\n",
       "      <td>0.012448</td>\n",
       "    </tr>\n",
       "    <tr>\n",
       "      <td>88</td>\n",
       "      <td>empath_journalism</td>\n",
       "      <td>0.011973</td>\n",
       "    </tr>\n",
       "    <tr>\n",
       "      <td>11944</td>\n",
       "      <td>strategy</td>\n",
       "      <td>0.011680</td>\n",
       "    </tr>\n",
       "    <tr>\n",
       "      <td>1962</td>\n",
       "      <td>analyst</td>\n",
       "      <td>0.011057</td>\n",
       "    </tr>\n",
       "    <tr>\n",
       "      <td>1</td>\n",
       "      <td>1_lda</td>\n",
       "      <td>0.010506</td>\n",
       "    </tr>\n",
       "    <tr>\n",
       "      <td>123</td>\n",
       "      <td>empath_independence</td>\n",
       "      <td>0.010394</td>\n",
       "    </tr>\n",
       "    <tr>\n",
       "      <td>19</td>\n",
       "      <td>19_lda</td>\n",
       "      <td>0.010276</td>\n",
       "    </tr>\n",
       "    <tr>\n",
       "      <td>11142</td>\n",
       "      <td>scientific</td>\n",
       "      <td>0.009847</td>\n",
       "    </tr>\n",
       "    <tr>\n",
       "      <td>2931</td>\n",
       "      <td>business</td>\n",
       "      <td>0.009414</td>\n",
       "    </tr>\n",
       "    <tr>\n",
       "      <td>5010</td>\n",
       "      <td>efficacy</td>\n",
       "      <td>0.009406</td>\n",
       "    </tr>\n",
       "  </tbody>\n",
       "</table>\n",
       "</div>"
      ],
      "text/plain": [
       "              feature_name  feature_importance\n",
       "4                    4_lda            0.259871\n",
       "6495            healthcare            0.085237\n",
       "9364               patient            0.015775\n",
       "206      empath_technology            0.012972\n",
       "11045                 sale            0.012530\n",
       "8893                 nurse            0.012448\n",
       "88       empath_journalism            0.011973\n",
       "11944             strategy            0.011680\n",
       "1962               analyst            0.011057\n",
       "1                    1_lda            0.010506\n",
       "123    empath_independence            0.010394\n",
       "19                  19_lda            0.010276\n",
       "11142           scientific            0.009847\n",
       "2931              business            0.009414\n",
       "5010              efficacy            0.009406"
      ]
     },
     "execution_count": 4,
     "metadata": {},
     "output_type": "execute_result"
    }
   ],
   "source": [
    "# This function pulls out the most important features from the XGBoost model and lists them for us in an \n",
    "# easy to read DataFrame (to return the entire DataFrame, set `num_top_features = 0`)\n",
    "\n",
    "def get_model_explained_df(model, feature_list, num_top_features = 0):\n",
    "    importance = pd.DataFrame.from_dict({\n",
    "        'feature_name': feature_list,\n",
    "        'feature_importance': model.feature_importances_})\n",
    "    \n",
    "    if num_top_features == 0:\n",
    "        return importance.sort_values('feature_importance', ascending = False)\n",
    "    else:\n",
    "        return importance.sort_values('feature_importance', ascending = False).head(num_top_features)\n",
    "\n",
    "\n",
    "model_explained_df = get_model_explained_df(model, feature_list, 15)\n",
    "model_explained_df"
   ]
  },
  {
   "cell_type": "markdown",
   "metadata": {},
   "source": [
    "Using the built-in XGBoost plotting function, we can see these feature importances in a bar graph"
   ]
  },
  {
   "cell_type": "code",
   "execution_count": 5,
   "metadata": {},
   "outputs": [
    {
     "data": {
      "text/plain": [
       "<matplotlib.axes._subplots.AxesSubplot at 0x1364684e0>"
      ]
     },
     "execution_count": 5,
     "metadata": {},
     "output_type": "execute_result"
    },
    {
     "data": {
      "image/png": "[encoded data removed]",
      "text/plain": [
       "<Figure size 432x288 with 1 Axes>"
      ]
     },
     "metadata": {
      "needs_background": "light"
     },
     "output_type": "display_data"
    }
   ],
   "source": [
    "plot_importance(model, max_num_features = 15, importance_type = 'gain')"
   ]
  },
  {
   "cell_type": "markdown",
   "metadata": {},
   "source": [
    "## Local Interpretability"
   ]
  },
  {
   "cell_type": "markdown",
   "metadata": {},
   "source": [
    "Next, we will walk through how we identified the most important features for predicting our registered nurse job description required the Medical and Dentistry KSA."
   ]
  },
  {
   "cell_type": "markdown",
   "metadata": {},
   "source": [
    "LIME can't handle DataFrames, but our XGBoost model requires DataFrames with column names. This class is a wrapper that fixes that."
   ]
  },
  {
   "cell_type": "code",
   "execution_count": 6,
   "metadata": {},
   "outputs": [],
   "source": [
    "class ModifiedModel:\n",
    "    def __init__(self, model, feature_names):\n",
    "        self.model = model\n",
    "        self.feature_names = list(feature_names)\n",
    "        \n",
    "    def predict_proba(self, X):\n",
    "        X = pd.DataFrame(X, columns = self.feature_names)\n",
    "        return self.model.predict_proba(X) "
   ]
  },
  {
   "cell_type": "markdown",
   "metadata": {},
   "source": [
    "We need to load the processed text from our job description which is made up of all the TF-IDF, LDA, and Empath values for that job description.  These are the same extracted values for the features that would be passed into each KSA model to determine if that KSA is required or not for the job description."
   ]
  },
  {
   "cell_type": "code",
   "execution_count": 7,
   "metadata": {},
   "outputs": [],
   "source": [
    "with open(PROCESSED_TEXT_PATH, 'rb') as handle:\n",
    "    processed_text = pickle.load(handle)"
   ]
  },
  {
   "cell_type": "markdown",
   "metadata": {},
   "source": [
    "Below, we want to show you what `processed_text` actually looks like so you have a better idea of the values we have extracted from the registered nurse job description so you can see what values we are passing to LIME for local interpretability."
   ]
  },
  {
   "cell_type": "code",
   "execution_count": 8,
   "metadata": {},
   "outputs": [
    {
     "data": {
      "text/html": [
       "<div>\n",
       "<style scoped>\n",
       "    .dataframe tbody tr th:only-of-type {\n",
       "        vertical-align: middle;\n",
       "    }\n",
       "\n",
       "    .dataframe tbody tr th {\n",
       "        vertical-align: top;\n",
       "    }\n",
       "\n",
       "    .dataframe thead th {\n",
       "        text-align: right;\n",
       "    }\n",
       "</style>\n",
       "<table border=\"1\" class=\"dataframe\">\n",
       "  <thead>\n",
       "    <tr style=\"text-align: right;\">\n",
       "      <th></th>\n",
       "      <th>0_lda</th>\n",
       "      <th>1_lda</th>\n",
       "      <th>2_lda</th>\n",
       "      <th>3_lda</th>\n",
       "      <th>4_lda</th>\n",
       "      <th>5_lda</th>\n",
       "      <th>6_lda</th>\n",
       "      <th>7_lda</th>\n",
       "      <th>8_lda</th>\n",
       "      <th>9_lda</th>\n",
       "      <th>...</th>\n",
       "      <th>zealand</th>\n",
       "      <th>zero</th>\n",
       "      <th>zh2zyknekz7plvz0</th>\n",
       "      <th>zimmermann</th>\n",
       "      <th>zinc</th>\n",
       "      <th>zip</th>\n",
       "      <th>zoho</th>\n",
       "      <th>zone</th>\n",
       "      <th>zoom</th>\n",
       "      <th>zuniga</th>\n",
       "    </tr>\n",
       "  </thead>\n",
       "  <tbody>\n",
       "    <tr>\n",
       "      <td>0</td>\n",
       "      <td>0.0</td>\n",
       "      <td>0.0</td>\n",
       "      <td>0.0</td>\n",
       "      <td>0.0</td>\n",
       "      <td>0.42618</td>\n",
       "      <td>0.0</td>\n",
       "      <td>0.055296</td>\n",
       "      <td>0.058806</td>\n",
       "      <td>0.0</td>\n",
       "      <td>0.0</td>\n",
       "      <td>...</td>\n",
       "      <td>0.0</td>\n",
       "      <td>0.0</td>\n",
       "      <td>0.0</td>\n",
       "      <td>0.0</td>\n",
       "      <td>0.0</td>\n",
       "      <td>0.0</td>\n",
       "      <td>0.0</td>\n",
       "      <td>0.0</td>\n",
       "      <td>0.0</td>\n",
       "      <td>0.0</td>\n",
       "    </tr>\n",
       "  </tbody>\n",
       "</table>\n",
       "<p>1 rows × 13661 columns</p>\n",
       "</div>"
      ],
      "text/plain": [
       "   0_lda  1_lda  2_lda  3_lda    4_lda  5_lda     6_lda     7_lda  8_lda  \\\n",
       "0    0.0    0.0    0.0    0.0  0.42618    0.0  0.055296  0.058806    0.0   \n",
       "\n",
       "   9_lda  ...  zealand  zero  zh2zyknekz7plvz0  zimmermann  zinc  zip  zoho  \\\n",
       "0    0.0  ...      0.0   0.0               0.0         0.0   0.0  0.0   0.0   \n",
       "\n",
       "   zone  zoom  zuniga  \n",
       "0   0.0   0.0     0.0  \n",
       "\n",
       "[1 rows x 13661 columns]"
      ]
     },
     "execution_count": 8,
     "metadata": {},
     "output_type": "execute_result"
    }
   ],
   "source": [
    "processed_text"
   ]
  },
  {
   "cell_type": "markdown",
   "metadata": {},
   "source": [
    "Next we can modify our model for LIME, convert our dataset DataFrame into values for LIME, build a LIME explainer, and then have LIME create a simple linear regression model to identify the 15 features that would make the Medicine and Dentistry KSA more or less likely to be identified within our job description."
   ]
  },
  {
   "cell_type": "code",
   "execution_count": 9,
   "metadata": {},
   "outputs": [
    {
     "data": {
      "text/plain": [
       "<lime.explanation.Explanation at 0x133e57940>"
      ]
     },
     "execution_count": 9,
     "metadata": {},
     "output_type": "execute_result"
    }
   ],
   "source": [
    "mod_model = ModifiedModel(model, feature_list)\n",
    "train = data.iloc[:, :len(model.feature_importances_)].values\n",
    "explainer = lime.lime_tabular.LimeTabularExplainer(train, feature_names = feature_list, \n",
    "                                                   class_names = ['No', 'Yes'], \n",
    "                                                   discretize_continuous = True)\n",
    "exp = explainer.explain_instance(processed_text.values[0], mod_model.predict_proba, num_features = 15)\n",
    "exp"
   ]
  },
  {
   "cell_type": "markdown",
   "metadata": {},
   "source": [
    "With the LIME explainer regression model completed, we can examine a list of the 15 features and their weights as well as a graphical depiction of which features are moving our model in the \"Yes\" or \"No\" direction."
   ]
  },
  {
   "cell_type": "code",
   "execution_count": 10,
   "metadata": {},
   "outputs": [
    {
     "data": {
      "text/plain": [
       "[('221 <= 0.00', -0.22827795678695695),\n",
       " ('fulltime > 0.00', 0.21458990335944964),\n",
       " ('ranked <= 0.00', -0.12942358522737837),\n",
       " ('adient <= 0.00', -0.1293515642555501),\n",
       " ('readability <= 0.00', -0.11639139364693857),\n",
       " ('tribal <= 0.00', -0.08735683275905176),\n",
       " ('governing <= 0.00', -0.07684884278468654),\n",
       " ('nurse > 0.00', 0.0585309686370613),\n",
       " ('intense <= 0.00', -0.0457408995312109),\n",
       " ('ims <= 0.00', -0.044443295583947946),\n",
       " ('southeast <= 0.00', -0.0374251054014655),\n",
       " ('patient > 0.00', 0.03578727010616305),\n",
       " ('4_lda > 0.01', 0.031297629197910404),\n",
       " ('postage <= 0.00', -0.030784325431412202),\n",
       " ('cutting <= 0.00', -0.01999467801660313)]"
      ]
     },
     "execution_count": 10,
     "metadata": {},
     "output_type": "execute_result"
    }
   ],
   "source": [
    "exp.as_list()"
   ]
  },
  {
   "cell_type": "code",
   "execution_count": 12,
   "metadata": {},
   "outputs": [
    {
     "data": {
      "text/html": [
       "<img src=\"https://i.imgur.com/qq1CCJA.png\"/>"
      ],
      "text/plain": [
       "<IPython.core.display.Image object>"
      ]
     },
     "execution_count": 12,
     "metadata": {},
     "output_type": "execute_result"
    }
   ],
   "source": [
    "#exp.show_in_notebook()\n",
    "# Remove the below line when using this notebook for your own use\n",
    "Image(url= \"https://i.imgur.com/qq1CCJA.png\")"
   ]
  },
  {
   "cell_type": "markdown",
   "metadata": {},
   "source": [
    "With that, we can see the model predicts a 97% probability that the Medicine and Dentistry KSA would be required within our registered nurse job description.  We can also see that the features 4_lda, nurse, patient, and fulltime have the most important impact on determining that the Medicine and Dentistry KSA is required in this job description.  For example, the job description scores a standardized probability of 0.43 for the 4_lda topic being present, which, combined with the 4_lda topic having a regression beta weight of 0.03, partially explains why the Medicine and Dentistry KSA was pushed in the \"Yes\" direction for being required for our job description."
   ]
  }
 ],
 "metadata": {
  "kernelspec": {
   "display_name": "Python 3",
   "language": "python",
   "name": "python3"
  },
  "language_info": {
   "codemirror_mode": {
    "name": "ipython",
    "version": 3
   },
   "file_extension": ".py",
   "mimetype": "text/x-python",
   "name": "python",
   "nbconvert_exporter": "python",
   "pygments_lexer": "ipython3",
   "version": "3.7.3"
  }
 },
 "nbformat": 4,
 "nbformat_minor": 4
}
